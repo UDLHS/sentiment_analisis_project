{
 "cells": [
  {
   "cell_type": "code",
   "execution_count": null,
   "id": "9287739d-c02c-4845-af7d-64de21adb8ce",
   "metadata": {},
   "outputs": [],
   "source": [
    "# Copy the data set's API code\n",
    "kaggle datasets download -d dineshpiyasamara/sentiment-analysis-dataset\n",
    "# Take only part that only after -d\n",
    "# Make sure to make a API and that json file copy to the needed location"
   ]
  },
  {
   "cell_type": "code",
   "execution_count": 2,
   "id": "4f1914a7-cef6-4c12-8d85-60f094248588",
   "metadata": {},
   "outputs": [],
   "source": [
    "import json\n",
    "with open(\"../data_set/kaggle.json\", \"r\") as dataset:\n",
    "    data_set = json.load(dataset)"
   ]
  },
  {
   "cell_type": "code",
   "execution_count": 3,
   "id": "47f91e5c-8ea4-41d0-89fd-65df550aeede",
   "metadata": {},
   "outputs": [
    {
     "data": {
      "text/plain": [
       "{'username': 'udlhskel', 'key': 'dcf7109c5619253c56d6a783cd835c9e'}"
      ]
     },
     "execution_count": 3,
     "metadata": {},
     "output_type": "execute_result"
    }
   ],
   "source": [
    "data_set"
   ]
  },
  {
   "cell_type": "code",
   "execution_count": 5,
   "id": "e5ce8eaa-9668-46db-896f-c877e2b69006",
   "metadata": {
    "scrolled": true
   },
   "outputs": [
    {
     "name": "stdout",
     "output_type": "stream",
     "text": [
      "Collecting kaggle\n",
      "  Downloading kaggle-1.6.17.tar.gz (82 kB)\n",
      "     ---------------------------------------- 0.0/82.7 kB ? eta -:--:--\n",
      "     ---- ----------------------------------- 10.2/82.7 kB ? eta -:--:--\n",
      "     -------------- ----------------------- 30.7/82.7 kB 435.7 kB/s eta 0:00:01\n",
      "     -------------- ----------------------- 30.7/82.7 kB 435.7 kB/s eta 0:00:01\n",
      "     -------------- ----------------------- 30.7/82.7 kB 435.7 kB/s eta 0:00:01\n",
      "     -------------- ----------------------- 30.7/82.7 kB 435.7 kB/s eta 0:00:01\n",
      "     ------------------ ------------------- 41.0/82.7 kB 151.3 kB/s eta 0:00:01\n",
      "     -------------------------------------  81.9/82.7 kB 255.1 kB/s eta 0:00:01\n",
      "     -------------------------------------- 82.7/82.7 kB 257.8 kB/s eta 0:00:00\n",
      "  Installing build dependencies: started\n",
      "  Installing build dependencies: finished with status 'done'\n",
      "  Getting requirements to build wheel: started\n",
      "  Getting requirements to build wheel: finished with status 'done'\n",
      "  Preparing metadata (pyproject.toml): started\n",
      "  Preparing metadata (pyproject.toml): finished with status 'done'\n",
      "Requirement already satisfied: six>=1.10 in e:\\ml learn\\sentiment_analysis\\sentiment_analisis_project\\sentiment_env\\lib\\site-packages (from kaggle) (1.16.0)\n",
      "Requirement already satisfied: certifi>=2023.7.22 in e:\\ml learn\\sentiment_analysis\\sentiment_analisis_project\\sentiment_env\\lib\\site-packages (from kaggle) (2024.7.4)\n",
      "Requirement already satisfied: python-dateutil in e:\\ml learn\\sentiment_analysis\\sentiment_analisis_project\\sentiment_env\\lib\\site-packages (from kaggle) (2.9.0.post0)\n",
      "Requirement already satisfied: requests in e:\\ml learn\\sentiment_analysis\\sentiment_analisis_project\\sentiment_env\\lib\\site-packages (from kaggle) (2.32.3)\n",
      "Collecting tqdm (from kaggle)\n",
      "  Downloading tqdm-4.66.5-py3-none-any.whl.metadata (57 kB)\n",
      "     ---------------------------------------- 0.0/57.6 kB ? eta -:--:--\n",
      "     ----------------------------------- ---- 51.2/57.6 kB 1.3 MB/s eta 0:00:01\n",
      "     ---------------------------------------- 57.6/57.6 kB 1.0 MB/s eta 0:00:00\n",
      "Collecting python-slugify (from kaggle)\n",
      "  Downloading python_slugify-8.0.4-py2.py3-none-any.whl.metadata (8.5 kB)\n",
      "Requirement already satisfied: urllib3 in e:\\ml learn\\sentiment_analysis\\sentiment_analisis_project\\sentiment_env\\lib\\site-packages (from kaggle) (2.2.2)\n",
      "Requirement already satisfied: bleach in e:\\ml learn\\sentiment_analysis\\sentiment_analisis_project\\sentiment_env\\lib\\site-packages (from kaggle) (6.1.0)\n",
      "Requirement already satisfied: webencodings in e:\\ml learn\\sentiment_analysis\\sentiment_analisis_project\\sentiment_env\\lib\\site-packages (from bleach->kaggle) (0.5.1)\n",
      "Collecting text-unidecode>=1.3 (from python-slugify->kaggle)\n",
      "  Downloading text_unidecode-1.3-py2.py3-none-any.whl.metadata (2.4 kB)\n",
      "Requirement already satisfied: charset-normalizer<4,>=2 in e:\\ml learn\\sentiment_analysis\\sentiment_analisis_project\\sentiment_env\\lib\\site-packages (from requests->kaggle) (3.3.2)\n",
      "Requirement already satisfied: idna<4,>=2.5 in e:\\ml learn\\sentiment_analysis\\sentiment_analisis_project\\sentiment_env\\lib\\site-packages (from requests->kaggle) (3.7)\n",
      "Requirement already satisfied: colorama in e:\\ml learn\\sentiment_analysis\\sentiment_analisis_project\\sentiment_env\\lib\\site-packages (from tqdm->kaggle) (0.4.6)\n",
      "Downloading python_slugify-8.0.4-py2.py3-none-any.whl (10 kB)\n",
      "Downloading tqdm-4.66.5-py3-none-any.whl (78 kB)\n",
      "   ---------------------------------------- 0.0/78.4 kB ? eta -:--:--\n",
      "   --------------- ------------------------ 30.7/78.4 kB 640.0 kB/s eta 0:00:01\n",
      "   ---------------------------------------- 78.4/78.4 kB 1.1 MB/s eta 0:00:00\n",
      "Downloading text_unidecode-1.3-py2.py3-none-any.whl (78 kB)\n",
      "   ---------------------------------------- 0.0/78.2 kB ? eta -:--:--\n",
      "   -------------------- ------------------- 41.0/78.2 kB 1.9 MB/s eta 0:00:01\n",
      "   -------------------- ------------------- 41.0/78.2 kB 1.9 MB/s eta 0:00:01\n",
      "   -------------------- ------------------- 41.0/78.2 kB 1.9 MB/s eta 0:00:01\n",
      "   -------------------- ------------------- 41.0/78.2 kB 1.9 MB/s eta 0:00:01\n",
      "   -------------------- ------------------- 41.0/78.2 kB 1.9 MB/s eta 0:00:01\n",
      "   ------------------------------------ --- 71.7/78.2 kB 245.8 kB/s eta 0:00:01\n",
      "   ---------------------------------------- 78.2/78.2 kB 255.3 kB/s eta 0:00:00\n",
      "Building wheels for collected packages: kaggle\n",
      "  Building wheel for kaggle (pyproject.toml): started\n",
      "  Building wheel for kaggle (pyproject.toml): finished with status 'done'\n",
      "  Created wheel for kaggle: filename=kaggle-1.6.17-py3-none-any.whl size=105797 sha256=422540865052cfd0e20b6f6f5d7b62c2a5918be0e8cfdcc4b7299edc81c02a2e\n",
      "  Stored in directory: c:\\users\\acsoo\\appdata\\local\\pip\\cache\\wheels\\46\\d2\\26\\84d0a1acdb9c6baccf7d28cf06962ec80529fe1ad938489983\n",
      "Successfully built kaggle\n",
      "Installing collected packages: text-unidecode, tqdm, python-slugify, kaggle\n",
      "Successfully installed kaggle-1.6.17 python-slugify-8.0.4 text-unidecode-1.3 tqdm-4.66.5\n"
     ]
    },
    {
     "name": "stderr",
     "output_type": "stream",
     "text": [
      "\n",
      "[notice] A new release of pip is available: 24.1.2 -> 24.2\n",
      "[notice] To update, run: python.exe -m pip install --upgrade pip\n"
     ]
    }
   ],
   "source": [
    "# Install kaggle lybrary\n",
    "!pip install kaggle"
   ]
  },
  {
   "cell_type": "code",
   "execution_count": 7,
   "id": "2869878b-6897-487e-8c3d-e5a01200fc4b",
   "metadata": {},
   "outputs": [],
   "source": [
    "import os\n",
    "os.environ[\"KAGGLE_USERNAME\"] = data_set[\"username\"]\n",
    "os.environ[\"KAGGLE_KEY\"] = data_set[\"key\"]"
   ]
  },
  {
   "cell_type": "code",
   "execution_count": 8,
   "id": "0fe97a71-fb6b-4ba7-a1ae-bd729d31b584",
   "metadata": {},
   "outputs": [],
   "source": [
    "from kaggle.api.kaggle_api_extended import KaggleApi\n",
    "api = KaggleApi()\n",
    "api.authenticate()"
   ]
  },
  {
   "cell_type": "code",
   "execution_count": 9,
   "id": "e4b58649-ba43-46ef-be6d-a6bd8e6f4eb9",
   "metadata": {},
   "outputs": [
    {
     "name": "stdout",
     "output_type": "stream",
     "text": [
      "Dataset URL: https://www.kaggle.com/datasets/dineshpiyasamara/sentiment-analysis-dataset\n"
     ]
    }
   ],
   "source": [
    "api.dataset_download_files(\"dineshpiyasamara/sentiment-analysis-dataset\", path=\"../data_set\")"
   ]
  },
  {
   "cell_type": "code",
   "execution_count": 10,
   "id": "d129c040-8ab6-4fd6-92aa-2a17ae881d19",
   "metadata": {},
   "outputs": [],
   "source": [
    "# Unzip data set\n",
    "import zipfile\n",
    "with zipfile.ZipFile(\"../data_set/sentiment-analysis-dataset.zip\", \"r\") as zip_ref:\n",
    "    zip_ref.extractall(\"../data_set/\")"
   ]
  },
  {
   "cell_type": "code",
   "execution_count": 11,
   "id": "66ae7669-2973-415f-b882-7acb2f57c0c7",
   "metadata": {},
   "outputs": [],
   "source": [
    "# Data set Downloaded and extracted done..."
   ]
  },
  {
   "cell_type": "code",
   "execution_count": null,
   "id": "dc280872-d5f1-4721-b1d7-b56bbd1e04ce",
   "metadata": {},
   "outputs": [],
   "source": []
  }
 ],
 "metadata": {
  "kernelspec": {
   "display_name": "Python 3 (ipykernel)",
   "language": "python",
   "name": "python3"
  },
  "language_info": {
   "codemirror_mode": {
    "name": "ipython",
    "version": 3
   },
   "file_extension": ".py",
   "mimetype": "text/x-python",
   "name": "python",
   "nbconvert_exporter": "python",
   "pygments_lexer": "ipython3",
   "version": "3.12.3"
  }
 },
 "nbformat": 4,
 "nbformat_minor": 5
}
